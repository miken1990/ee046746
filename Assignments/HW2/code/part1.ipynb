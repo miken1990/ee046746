{
 "cells": [
  {
   "cell_type": "code",
   "execution_count": 1,
   "metadata": {
    "colab": {
     "base_uri": "https://localhost:8080/",
     "height": 35
    },
    "colab_type": "code",
    "executionInfo": {
     "elapsed": 5021,
     "status": "ok",
     "timestamp": 1588752752363,
     "user": {
      "displayName": "מיכאל נוביצקי",
      "photoUrl": "",
      "userId": "14441468355550139068"
     },
     "user_tz": -180
    },
    "id": "r9yPHAUv95eH",
    "outputId": "91722c75-eff9-4486-a605-6952c73dd320"
   },
   "outputs": [
    {
     "data": {
      "text/plain": [
       "<torch._C.Generator at 0x255ad7ee3b0>"
      ]
     },
     "execution_count": 1,
     "metadata": {},
     "output_type": "execute_result"
    }
   ],
   "source": [
    "import torch\n",
    "import torchvision\n",
    "from torchvision import transforms\n",
    "from part1.data import show_5_images\n",
    "torch.manual_seed(0)"
   ]
  },
  {
   "cell_type": "code",
   "execution_count": 2,
   "metadata": {
    "colab": {
     "base_uri": "https://localhost:8080/",
     "height": 52
    },
    "colab_type": "code",
    "executionInfo": {
     "elapsed": 10133,
     "status": "ok",
     "timestamp": 1588752762516,
     "user": {
      "displayName": "מיכאל נוביצקי",
      "photoUrl": "",
      "userId": "14441468355550139068"
     },
     "user_tz": -180
    },
    "id": "qfjJFg789lrz",
    "outputId": "0565ae71-55a1-48eb-97ea-c6add8c3a526",
    "pycharm": {
     "is_executing": false,
     "name": "#%%\n"
    }
   },
   "outputs": [
    {
     "name": "stdout",
     "output_type": "stream",
     "text": [
      "Using downloaded and verified file: ../data\\train_32x32.mat\n",
      "Using downloaded and verified file: ../data\\test_32x32.mat\n"
     ]
    }
   ],
   "source": [
    "## load train and test \n",
    "path_to_data = '../data'\n",
    "transform_train = transforms.Compose([\n",
    "    transforms.ToTensor(),\n",
    "])\n",
    "ds_train = torchvision.datasets.SVHN(path_to_data, split='train', transform=transform_train, download=True)\n",
    "ds_test = torchvision.datasets.SVHN(path_to_data, split='test', transform=transform_train, download=True)\n",
    "batch_size = 5"
   ]
  },
  {
   "cell_type": "code",
   "execution_count": 3,
   "metadata": {
    "colab": {
     "base_uri": "https://localhost:8080/",
     "height": 166
    },
    "colab_type": "code",
    "executionInfo": {
     "elapsed": 10115,
     "status": "ok",
     "timestamp": 1588752762520,
     "user": {
      "displayName": "מיכאל נוביצקי",
      "photoUrl": "",
      "userId": "14441468355550139068"
     },
     "user_tz": -180
    },
    "id": "-Gwamg4Y9lr3",
    "outputId": "40d6d715-670e-41e7-e555-3d32575ed0db",
    "pycharm": {
     "is_executing": false,
     "name": "#%%\n"
    }
   },
   "outputs": [
    {
     "data": {
      "image/png": "[encoded data removed]",
      "text/plain": [
       "<Figure size 864x180 with 5 Axes>"
      ]
     },
     "metadata": {},
     "output_type": "display_data"
    }
   ],
   "source": [
    "# show 5 images\n",
    "svnh_train_loader = torch.utils.data.DataLoader(dataset=ds_train,\n",
    "                                                batch_size=batch_size,\n",
    "                                                shuffle=True, drop_last=False)\n",
    "\n",
    "classes = {i: i for i in range(10)}\n",
    "classes[0] = 10\n",
    "show_5_images(svnh_train_loader, classes)"
   ]
  },
  {
   "cell_type": "code",
   "execution_count": 4,
   "metadata": {
    "colab": {
     "base_uri": "https://localhost:8080/",
     "height": 745
    },
    "colab_type": "code",
    "executionInfo": {
     "elapsed": 19371,
     "status": "ok",
     "timestamp": 1588752772931,
     "user": {
      "displayName": "מיכאל נוביצקי",
      "photoUrl": "",
      "userId": "14441468355550139068"
     },
     "user_tz": -180
    },
    "id": "gptOxIRC9lr6",
    "outputId": "59e0160d-703c-486c-92fa-996fa093c5c5",
    "pycharm": {
     "is_executing": false,
     "name": "#%%\n"
    }
   },
   "outputs": [
    {
     "name": "stdout",
     "output_type": "stream",
     "text": [
      "in: [3, 128], out: [128, 256]\n",
      "in channel: 3, out_channel: 128\n",
      "in channel: 128, out_channel: 256\n",
      "ConvNet(\n",
      "  (conv_layer): Sequential(\n",
      "    (0): ResBlock(\n",
      "      (main_block): Sequential(\n",
      "        (0): Conv2d(3, 128, kernel_size=(3, 3), stride=(1, 1), padding=(1, 1))\n",
      "        (1): BatchNorm2d(128, eps=1e-05, momentum=0.1, affine=True, track_running_stats=True)\n",
      "        (2): ReLU(inplace)\n",
      "        (3): Conv2d(128, 128, kernel_size=(3, 3), stride=(1, 1), padding=(1, 1))\n",
      "        (4): BatchNorm2d(128, eps=1e-05, momentum=0.1, affine=True, track_running_stats=True)\n",
      "        (5): MaxPool2d(kernel_size=2, stride=2, padding=0, dilation=1, ceil_mode=False)\n",
      "        (6): Dropout(p=0.2)\n",
      "      )\n",
      "      (shortcut_path): Sequential(\n",
      "        (0): Conv2d(3, 128, kernel_size=(1, 1), stride=(2, 2), bias=False)\n",
      "      )\n",
      "    )\n",
      "    (1): ResBlock(\n",
      "      (main_block): Sequential(\n",
      "        (0): Conv2d(128, 256, kernel_size=(3, 3), stride=(1, 1), padding=(1, 1))\n",
      "        (1): BatchNorm2d(256, eps=1e-05, momentum=0.1, affine=True, track_running_stats=True)\n",
      "        (2): ReLU(inplace)\n",
      "        (3): Conv2d(256, 256, kernel_size=(3, 3), stride=(1, 1), padding=(1, 1))\n",
      "        (4): BatchNorm2d(256, eps=1e-05, momentum=0.1, affine=True, track_running_stats=True)\n",
      "        (5): MaxPool2d(kernel_size=2, stride=2, padding=0, dilation=1, ceil_mode=False)\n",
      "        (6): Dropout(p=0.2)\n",
      "      )\n",
      "      (shortcut_path): Sequential(\n",
      "        (0): Conv2d(128, 256, kernel_size=(1, 1), stride=(2, 2), bias=False)\n",
      "      )\n",
      "    )\n",
      "  )\n",
      "  (fc_layer): Sequential(\n",
      "    (0): Dropout(p=0.8)\n",
      "    (1): Linear(in_features=16384, out_features=128, bias=True)\n",
      "    (2): ReLU(inplace)\n",
      "    (3): Dropout(p=0.4)\n",
      "    (4): Linear(in_features=128, out_features=10, bias=True)\n",
      "  )\n",
      ")\n"
     ]
    }
   ],
   "source": [
    "# init trainer\n",
    "from part1.model import ConvNet\n",
    "from part1.training import Trainer\n",
    "device = torch.device(\"cuda:0\" if torch.cuda.is_available() else \"cpu\")\n",
    "# model\n",
    "model = ConvNet(in_dim=3, out_dim=256).to(device)\n",
    "print(model)\n",
    "# loss criterion\n",
    "loss_fn = torch.nn.CrossEntropyLoss()\n",
    "# optimizer\n",
    "learning_rate = 1e-4\n",
    "optimizer = torch.optim.Adam(model.parameters(), lr=learning_rate)\n",
    "trainer = Trainer(model=model, loss_fn=loss_fn, optimizer=optimizer, device=device)"
   ]
  },
  {
   "cell_type": "code",
   "execution_count": 8,
   "metadata": {
    "colab": {
     "base_uri": "https://localhost:8080/",
     "height": 1000
    },
    "colab_type": "code",
    "executionInfo": {
     "elapsed": 8325262,
     "status": "ok",
     "timestamp": 1588705445144,
     "user": {
      "displayName": "מיכאל נוביצקי",
      "photoUrl": "",
      "userId": "14441468355550139068"
     },
     "user_tz": -180
    },
    "id": "S-Z4zRv79lr9",
    "outputId": "defd0cad-daf6-4c8b-d6bb-6220b704374d"
   },
   "outputs": [
    {
     "name": "stdout",
     "output_type": "stream",
     "text": [
      "Epoch: 1 | Loss: 0.0159 | Training accuracy: 30.019% | Test accuracy: 30.030% | Epoch Time: 139.29 secs\n",
      "saving model\n",
      "Epoch: 2 | Loss: 0.0073 | Training accuracy: 80.739% | Test accuracy: 79.798% | Epoch Time: 139.04 secs\n",
      "saving model\n",
      "Epoch: 3 | Loss: 0.0056 | Training accuracy: 85.090% | Test accuracy: 84.084% | Epoch Time: 139.02 secs\n",
      "saving model\n",
      "Epoch: 4 | Loss: 0.0056 | Training accuracy: 86.801% | Test accuracy: 85.831% | Epoch Time: 138.83 secs\n",
      "saving model\n",
      "Epoch: 5 | Loss: 0.0054 | Training accuracy: 88.009% | Test accuracy: 86.923% | Epoch Time: 138.80 secs\n",
      "saving model\n",
      "Epoch: 6 | Loss: 0.0034 | Training accuracy: 88.928% | Test accuracy: 87.770% | Epoch Time: 139.07 secs\n",
      "saving model\n",
      "Epoch: 7 | Loss: 0.0042 | Training accuracy: 89.767% | Test accuracy: 88.411% | Epoch Time: 139.19 secs\n",
      "saving model\n",
      "Epoch: 8 | Loss: 0.0038 | Training accuracy: 89.839% | Test accuracy: 88.561% | Epoch Time: 138.66 secs\n",
      "saving model\n",
      "Epoch: 9 | Loss: 0.0041 | Training accuracy: 90.806% | Test accuracy: 89.353% | Epoch Time: 138.71 secs\n",
      "saving model\n",
      "Epoch: 10 | Loss: 0.0039 | Training accuracy: 91.280% | Test accuracy: 89.967% | Epoch Time: 138.93 secs\n",
      "saving model\n",
      "Epoch: 11 | Loss: 0.0032 | Training accuracy: 91.813% | Test accuracy: 90.595% | Epoch Time: 138.90 secs\n",
      "saving model\n",
      "Epoch: 12 | Loss: 0.0026 | Training accuracy: 92.231% | Test accuracy: 90.513% | Epoch Time: 139.03 secs\n",
      "Epoch: 13 | Loss: 0.0044 | Training accuracy: 92.439% | Test accuracy: 91.059% | Epoch Time: 138.74 secs\n",
      "saving model\n",
      "Epoch: 14 | Loss: 0.0023 | Training accuracy: 92.771% | Test accuracy: 90.964% | Epoch Time: 138.91 secs\n",
      "Epoch: 15 | Loss: 0.0020 | Training accuracy: 93.172% | Test accuracy: 91.646% | Epoch Time: 139.26 secs\n",
      "saving model\n",
      "Epoch: 16 | Loss: 0.0023 | Training accuracy: 93.296% | Test accuracy: 91.387% | Epoch Time: 139.15 secs\n",
      "Epoch: 17 | Loss: 0.0028 | Training accuracy: 93.560% | Test accuracy: 91.892% | Epoch Time: 139.14 secs\n",
      "saving model\n",
      "Epoch: 18 | Loss: 0.0025 | Training accuracy: 93.891% | Test accuracy: 92.069% | Epoch Time: 139.17 secs\n",
      "saving model\n",
      "Epoch: 19 | Loss: 0.0030 | Training accuracy: 94.179% | Test accuracy: 92.397% | Epoch Time: 139.10 secs\n",
      "saving model\n",
      "Epoch: 20 | Loss: 0.0018 | Training accuracy: 94.353% | Test accuracy: 92.342% | Epoch Time: 138.95 secs\n",
      "Epoch: 21 | Loss: 0.0025 | Training accuracy: 94.408% | Test accuracy: 92.370% | Epoch Time: 139.12 secs\n",
      "Epoch: 22 | Loss: 0.0021 | Training accuracy: 94.622% | Test accuracy: 92.288% | Epoch Time: 139.10 secs\n",
      "Epoch: 23 | Loss: 0.0018 | Training accuracy: 94.884% | Test accuracy: 92.902% | Epoch Time: 139.15 secs\n",
      "saving model\n",
      "Epoch: 24 | Loss: 0.0025 | Training accuracy: 94.948% | Test accuracy: 92.752% | Epoch Time: 138.89 secs\n",
      "Epoch: 25 | Loss: 0.0027 | Training accuracy: 95.162% | Test accuracy: 92.506% | Epoch Time: 139.17 secs\n",
      "Epoch: 26 | Loss: 0.0018 | Training accuracy: 95.139% | Test accuracy: 92.465% | Epoch Time: 139.11 secs\n",
      "Epoch: 27 | Loss: 0.0018 | Training accuracy: 95.430% | Test accuracy: 92.984% | Epoch Time: 138.90 secs\n",
      "saving model\n",
      "Epoch: 28 | Loss: 0.0020 | Training accuracy: 95.601% | Test accuracy: 93.038% | Epoch Time: 138.24 secs\n",
      "saving model\n",
      "Epoch: 29 | Loss: 0.0023 | Training accuracy: 95.500% | Test accuracy: 92.957% | Epoch Time: 138.29 secs\n",
      "Epoch: 30 | Loss: 0.0016 | Training accuracy: 95.700% | Test accuracy: 92.943% | Epoch Time: 138.31 secs\n",
      "Epoch: 31 | Loss: 0.0018 | Training accuracy: 95.359% | Test accuracy: 92.656% | Epoch Time: 138.29 secs\n",
      "Epoch: 32 | Loss: 0.0019 | Training accuracy: 95.838% | Test accuracy: 93.243% | Epoch Time: 138.10 secs\n",
      "saving model\n",
      "Epoch: 33 | Loss: 0.0017 | Training accuracy: 95.997% | Test accuracy: 93.257% | Epoch Time: 138.23 secs\n",
      "saving model\n",
      "Epoch: 34 | Loss: 0.0014 | Training accuracy: 95.871% | Test accuracy: 93.216% | Epoch Time: 138.49 secs\n",
      "Epoch: 35 | Loss: 0.0020 | Training accuracy: 96.149% | Test accuracy: 93.434% | Epoch Time: 138.53 secs\n",
      "saving model\n",
      "Epoch: 36 | Loss: 0.0020 | Training accuracy: 96.448% | Test accuracy: 93.653% | Epoch Time: 138.52 secs\n",
      "saving model\n",
      "Epoch: 37 | Loss: 0.0020 | Training accuracy: 96.454% | Test accuracy: 93.434% | Epoch Time: 138.28 secs\n",
      "Epoch: 38 | Loss: 0.0017 | Training accuracy: 96.076% | Test accuracy: 93.066% | Epoch Time: 138.46 secs\n",
      "Epoch: 39 | Loss: 0.0020 | Training accuracy: 96.499% | Test accuracy: 93.243% | Epoch Time: 138.67 secs\n",
      "Epoch: 40 | Loss: 0.0021 | Training accuracy: 96.689% | Test accuracy: 93.489% | Epoch Time: 138.27 secs\n",
      "Epoch: 41 | Loss: 0.0016 | Training accuracy: 96.583% | Test accuracy: 93.434% | Epoch Time: 138.42 secs\n",
      "Epoch: 42 | Loss: 0.0014 | Training accuracy: 96.785% | Test accuracy: 93.571% | Epoch Time: 138.40 secs\n",
      "Epoch: 43 | Loss: 0.0017 | Training accuracy: 96.921% | Test accuracy: 93.748% | Epoch Time: 138.25 secs\n",
      "saving model\n",
      "Epoch: 44 | Loss: 0.0015 | Training accuracy: 97.106% | Test accuracy: 93.707% | Epoch Time: 138.46 secs\n",
      "Epoch: 45 | Loss: 0.0019 | Training accuracy: 97.130% | Test accuracy: 93.871% | Epoch Time: 138.35 secs\n",
      "saving model\n",
      "Epoch: 46 | Loss: 0.0021 | Training accuracy: 97.054% | Test accuracy: 93.748% | Epoch Time: 138.38 secs\n",
      "Epoch: 47 | Loss: 0.0015 | Training accuracy: 97.051% | Test accuracy: 93.748% | Epoch Time: 138.52 secs\n",
      "Epoch: 48 | Loss: 0.0015 | Training accuracy: 97.391% | Test accuracy: 94.171% | Epoch Time: 138.23 secs\n",
      "saving model\n",
      "Epoch: 49 | Loss: 0.0015 | Training accuracy: 97.379% | Test accuracy: 94.021% | Epoch Time: 138.51 secs\n",
      "Epoch: 50 | Loss: 0.0014 | Training accuracy: 97.446% | Test accuracy: 94.035% | Epoch Time: 138.58 secs\n",
      "Epoch: 51 | Loss: 0.0014 | Training accuracy: 97.409% | Test accuracy: 94.035% | Epoch Time: 138.75 secs\n",
      "Epoch: 52 | Loss: 0.0010 | Training accuracy: 97.558% | Test accuracy: 93.912% | Epoch Time: 138.37 secs\n",
      "Epoch: 53 | Loss: 0.0014 | Training accuracy: 97.490% | Test accuracy: 94.008% | Epoch Time: 138.35 secs\n",
      "Epoch: 54 | Loss: 0.0010 | Training accuracy: 97.661% | Test accuracy: 93.789% | Epoch Time: 138.23 secs\n",
      "Epoch: 55 | Loss: 0.0009 | Training accuracy: 97.660% | Test accuracy: 93.857% | Epoch Time: 138.56 secs\n",
      "Epoch: 56 | Loss: 0.0015 | Training accuracy: 97.675% | Test accuracy: 93.980% | Epoch Time: 137.89 secs\n",
      "Epoch: 57 | Loss: 0.0014 | Training accuracy: 97.761% | Test accuracy: 94.144% | Epoch Time: 138.44 secs\n",
      "Epoch: 58 | Loss: 0.0015 | Training accuracy: 97.849% | Test accuracy: 94.171% | Epoch Time: 138.44 secs\n",
      "Epoch: 59 | Loss: 0.0018 | Training accuracy: 97.793% | Test accuracy: 94.021% | Epoch Time: 138.61 secs\n",
      "Epoch: 60 | Loss: 0.0014 | Training accuracy: 97.776% | Test accuracy: 94.185% | Epoch Time: 138.34 secs\n",
      "saving model\n",
      "==> Finished Training ...\n"
     ]
    }
   ],
   "source": [
    "# create validation set with 10% of the training data\n",
    "batch_size = 512\n",
    "train_length = int(0.9 * len(ds_train))\n",
    "\n",
    "val_length = len(ds_train)-train_length\n",
    "\n",
    "train_dataset, val_dataset=torch.utils.data.random_split(ds_train, (train_length,val_length))\n",
    "svnh_train_loader = torch.utils.data.DataLoader(dataset=train_dataset,\n",
    "                                                batch_size=batch_size,\n",
    "                                                shuffle=True, drop_last=False)\n",
    "svnh_val_loader = torch.utils.data.DataLoader(dataset=val_dataset,\n",
    "                                                batch_size=batch_size,\n",
    "                                                shuffle=True, drop_last=False)\n",
    "# train our model\n",
    "trainer.train(num_epochs=60, dl_train=svnh_train_loader, dl_val=svnh_val_loader, early_stopping=5)"
   ]
  },
  {
   "cell_type": "code",
   "execution_count": 7,
   "metadata": {
    "colab": {
     "base_uri": "https://localhost:8080/",
     "height": 104
    },
    "colab_type": "code",
    "executionInfo": {
     "elapsed": 34589,
     "status": "ok",
     "timestamp": 1588752821994,
     "user": {
      "displayName": "מיכאל נוביצקי",
      "photoUrl": "",
      "userId": "14441468355550139068"
     },
     "user_tz": -180
    },
    "id": "nc1G4Dkr_O9E",
    "outputId": "5c814012-062f-46be-a0b2-2a54c051e53a"
   },
   "outputs": [
    {
     "name": "stdout",
     "output_type": "stream",
     "text": [
      "in: [3, 128], out: [128, 256]\n",
      "in channel: 3, out_channel: 128\n",
      "in channel: 128, out_channel: 256\n",
      "Test: | Loss: 0.0000 | Training accuracy: 94.541% | Test accuracy: 94.541% | Test Time: 32.84 secs\n",
      "==> Finished Test ...\n"
     ]
    }
   ],
   "source": [
    "# check model on test set\n",
    "model = ConvNet(in_dim=3, out_dim=256).to(device)\n",
    "state = torch.load('./part1/checkpoints/svhn_cnn_final.pth', map_location=device)\n",
    "model.load_state_dict(state['net'])\n",
    "trainer = Trainer(model=model, loss_fn=loss_fn, optimizer=optimizer, device=device)\n",
    "\n",
    "svnh_test_loader = torch.utils.data.DataLoader(dataset=ds_test,\n",
    "                                                batch_size=batch_size,\n",
    "                                                shuffle=True, drop_last=False)\n",
    "trainer.test(svnh_test_loader)"
   ]
  },
  {
   "cell_type": "code",
   "execution_count": 8,
   "metadata": {
    "colab": {
     "base_uri": "https://localhost:8080/",
     "height": 35
    },
    "colab_type": "code",
    "executionInfo": {
     "elapsed": 755,
     "status": "ok",
     "timestamp": 1588752982662,
     "user": {
      "displayName": "מיכאל נוביצקי",
      "photoUrl": "",
      "userId": "14441468355550139068"
     },
     "user_tz": -180
    },
    "id": "ZTGV74HT7m45",
    "outputId": "d82c032f-3468-440b-d2cc-78858f8fac25"
   },
   "outputs": [
    {
     "name": "stdout",
     "output_type": "stream",
     "text": [
      "our model has 3169674 parameters\n"
     ]
    }
   ],
   "source": [
    "def count_parameters(model): \n",
    "  return sum(p.numel() for p in model.parameters() if p.requires_grad)\n",
    "\n",
    "print(f'our model has {count_parameters(model)} parameters')"
   ]
  }
 ],
 "metadata": {
  "accelerator": "GPU",
  "colab": {
   "collapsed_sections": [],
   "name": "part1.ipynb",
   "provenance": []
  },
  "kernelspec": {
   "display_name": "Python 3",
   "language": "python",
   "name": "python3"
  },
  "language_info": {
   "codemirror_mode": {
    "name": "ipython",
    "version": 3
   },
   "file_extension": ".py",
   "mimetype": "text/x-python",
   "name": "python",
   "nbconvert_exporter": "python",
   "pygments_lexer": "ipython3",
   "version": "3.6.10"
  },
  "pycharm": {
   "stem_cell": {
    "cell_type": "raw",
    "metadata": {
     "collapsed": false
    },
    "source": []
   }
  }
 },
 "nbformat": 4,
 "nbformat_minor": 1
}
