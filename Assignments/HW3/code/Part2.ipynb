{
 "cells": [
  {
   "cell_type": "code",
   "execution_count": 1,
   "metadata": {},
   "outputs": [
    {
     "name": "stdout",
     "output_type": "stream",
     "text": [
      "29.97002997002997\n"
     ]
    }
   ],
   "source": [
    "# extract images from video - dinosaur\n",
    "import cv2\n",
    "vid_path = './data/dinosaur_model.mp4'\n",
    "vidcap = cv2.VideoCapture(vid_path)\n",
    "\n",
    "fps = vidcap.get(cv2.CAP_PROP_FPS)\n",
    "print(fps)\n",
    "success,image = vidcap.read()\n",
    "count = 0\n",
    "im_list = []\n",
    "while success:\n",
    "    success,image = vidcap.read()\n",
    "    if count//fps > 16:\n",
    "        break\n",
    "    if count//fps > 9:\n",
    "        im_list.append(image)\n",
    "        cv2.imwrite(\"my_data/part2.3/dinosaur/frame%d.jpg\" % count, image)     # save frame as JPEG file\n",
    "    count += 1"
   ]
  },
  {
   "cell_type": "code",
   "execution_count": 2,
   "metadata": {},
   "outputs": [
    {
     "name": "stdout",
     "output_type": "stream",
     "text": [
      "30.005917197411705\n"
     ]
    }
   ],
   "source": [
    "# extract images from video - Anaelle\n",
    "from PIL import Image \n",
    "import numpy as np\n",
    "# extract images from video anaelle\n",
    "vid_path = './my_data/part2.3/us_video/anaelle_video2.mp4'\n",
    "vidcap = cv2.VideoCapture(vid_path)\n",
    "fps = vidcap.get(cv2.CAP_PROP_FPS)\n",
    "print(fps)\n",
    "success,image = vidcap.read()\n",
    "count = 100\n",
    "im_list = []\n",
    "while success:\n",
    "    success,image = vidcap.read()\n",
    "    if success:\n",
    "        im_pil = Image.fromarray(image)\n",
    "        im_pil = im_pil.rotate(-90, expand=True)\n",
    "        if count//fps > 16:\n",
    "            break\n",
    "        image = np.array(im_pil)\n",
    "        im_list.append(image)\n",
    "\n",
    "        cv2.imwrite(\"my_data/part2.3/Anaelle/%d.jpg\" % count, image)     # save frame as JPEG file\n",
    "        count += 1"
   ]
  },
  {
   "cell_type": "code",
   "execution_count": 3,
   "metadata": {},
   "outputs": [
    {
     "name": "stdout",
     "output_type": "stream",
     "text": [
      "30.04028054878332\n"
     ]
    }
   ],
   "source": [
    "from PIL import Image \n",
    "import numpy as np\n",
    "# extract images from video - Michael\n",
    "vid_path = './my_data/part2.3/us_video/michael_video.mp4'\n",
    "vidcap = cv2.VideoCapture(vid_path)\n",
    "fps = vidcap.get(cv2.CAP_PROP_FPS)\n",
    "print(fps)\n",
    "success,image = vidcap.read()\n",
    "count = 100\n",
    "im_list = []\n",
    "while success:\n",
    "    success,image = vidcap.read()\n",
    "    if success:\n",
    "        im_pil = Image.fromarray(image)\n",
    "        im_pil = im_pil.rotate(-90, expand=True)\n",
    "        if count//fps > 16:\n",
    "            break\n",
    "        image = np.array(im_pil)\n",
    "        im_list.append(image)\n",
    "\n",
    "        cv2.imwrite(\"my_data/part2.3/Michael/%d.jpg\" % count, image)     # save frame as JPEG file\n",
    "        count += 1"
   ]
  },
  {
   "cell_type": "code",
   "execution_count": 4,
   "metadata": {},
   "outputs": [
    {
     "name": "stderr",
     "output_type": "stream",
     "text": [
      "Using cache found in C:\\Users\\micha/.cache\\torch\\hub\\pytorch_vision_v0.4.0\n"
     ]
    }
   ],
   "source": [
    "#prepare arguments for main loop\n",
    "import os\n",
    "import torch\n",
    "import matplotlib.pyplot as plt\n",
    "from torchvision import transforms\n",
    "from PIL import Image\n",
    "from part1.segment import calc_masked_image, calc_mask\n",
    "from part1.segment import segment_deeplabv3\n",
    "from part1.utils import resize_and_save\n",
    "import numpy as np\n",
    "import cv2 as cv\n",
    "\n",
    "model = torch.hub.load('pytorch/vision:v0.4.0', 'deeplabv3_resnet101', pretrained=True)\n",
    "model.eval()\n",
    "lower_bound_fgd = (50, 200, 0)\n",
    "upper_bound_fgd = (80, 255, 20)\n",
    "target = Image.open('./my_data/part2_background/jp_large.jpg')"
   ]
  },
  {
   "cell_type": "code",
   "execution_count": 5,
   "metadata": {},
   "outputs": [
    {
     "name": "stderr",
     "output_type": "stream",
     "text": [
      "C:\\Users\\micha\\Desktop\\cv_hw3\\code\\part1\\segment.py:47: FutureWarning: Using a non-tuple sequence for multidimensional indexing is deprecated; use `arr[tuple(seq)]` instead of `arr[seq]`. In the future this will be interpreted as an array index, `arr[np.array(seq)]`, which will result either in an error or a different result.\n",
      "  result[insertHere] = array\n"
     ]
    }
   ],
   "source": [
    "im_dir_dinosaur = 'my_data/part2.3/dinosaur'\n",
    "im_dir_Anaelle = 'my_data/part2.3/Anaelle'\n",
    "im_dir_Michael = 'my_data/part2.3/Michael'\n",
    "im_dir_masks_anaelle = 'my_data/part2.3/anaelle_masks'\n",
    "im_dir_masks_michael = 'my_data/part2.3/michael_masks'\n",
    "im_dir_seg_din = 'my_data/part2.3/din_seg'\n",
    "im_dir_seg_anaelle = 'my_data/part2.3/anaelle_seg'\n",
    "im_dir_seg_michael = 'my_data/part2.3/michael_seg'\n",
    "output_vid_images = 'my_data/part2.3/output_video_images'\n",
    "num_im =360\n",
    "\n",
    "for i, (im_dinosaur_name, im_anaelle_name, im_michael_name) in enumerate(zip(sorted(os.listdir(im_dir_dinosaur))[:num_im], sorted(os.listdir(im_dir_Anaelle))[:num_im], sorted(os.listdir(im_dir_Michael))[:num_im])):\n",
    "\n",
    "    im_dinosaur_path = os.path.join(im_dir_dinosaur, im_dinosaur_name)\n",
    "    \n",
    "    mask_dinosaur = calc_mask(im_dinosaur_path, lower_bound_fgd, upper_bound_fgd, in_range=False,is_erode=True)\n",
    "    # save dinosaur segmented image\n",
    "    masked_din_im = cv.imread(im_dinosaur_path)\n",
    "    masked_din_im = cv.cvtColor(masked_din_im, cv.COLOR_BGR2RGB)\n",
    "    \n",
    "    seg_din_path = os.path.join(im_dir_seg_din, im_dinosaur_name)\n",
    "    seg_din_im = masked_din_im * mask_dinosaur[:, :, np.newaxis]\n",
    "    seg_din_im_pil = Image.fromarray(np.uint8(seg_din_im))\n",
    "    seg_din_im_pil.save(seg_din_path)\n",
    "    \n",
    "    # insert dinasour to image\n",
    "    masked_im_with_dinosaur = calc_masked_image(im_dinosaur_path, target, shift_down=260, shift_right=100, mask=mask_dinosaur)\n",
    "\n",
    "    # insert Anaelle to image\n",
    "    im_anaelle_path = os.path.join(im_dir_Anaelle, im_anaelle_name)\n",
    "    resize_and_save(im_anaelle_path, 600, 300)\n",
    "    mask_anaelle_path = os.path.join(im_dir_masks_anaelle, im_anaelle_name)\n",
    "    seg_anaelle_path = os.path.join(im_dir_seg_anaelle, im_anaelle_name)\n",
    "    \n",
    "    if not os.path.isfile(mask_anaelle_path):\n",
    "        mask_anaelle_tensor, seg_anaelle_im = segment_deeplabv3(model, im_anaelle_path,is_erode=True)\n",
    "        kernel = np.ones((7, 7), np.uint8)\n",
    "        # save mask\n",
    "        mask_anaelle_im_erode = cv2.erode(mask_anaelle_tensor.byte().cpu().numpy(), kernel, iterations=1)\n",
    "        mask_anaelle_im_erode_pil = Image.fromarray(np.uint8(mask_anaelle_im_erode*255))\n",
    "        mask_anaelle_im_erode_pil.save(mask_anaelle_path)\n",
    "\n",
    "        # save segmented image\n",
    "        seg_anaelle_im = seg_anaelle_im * mask_anaelle_im_erode[:, :, np.newaxis]\n",
    "        seg_anaelle_im_pil = Image.fromarray(np.uint8(seg_anaelle_im))\n",
    "        seg_anaelle_im_pil.save(seg_anaelle_path)\n",
    "    \n",
    "    else:\n",
    "        mask_anaelle_im_erode = np.array(Image.open(mask_anaelle_path))/255\n",
    "\n",
    "        \n",
    "    masked_im_with_dino_anaelle = calc_masked_image(im_anaelle_path, masked_im_with_dinosaur, shift_down=450, shift_right=500, mask=mask_anaelle_im_erode)\n",
    "       \n",
    "    # insert Michael to image\n",
    "    im_michael_path = os.path.join(im_dir_Michael, im_michael_name)\n",
    "    resize_and_save(im_michael_path, 400, 200)\n",
    "    \n",
    "    mask_michael_path = os.path.join(im_dir_masks_michael, im_michael_name)\n",
    "    seg_michael_path = os.path.join(im_dir_seg_michael, im_michael_name)\n",
    "    \n",
    "    if not os.path.isfile(mask_michael_path):\n",
    "        mask_michael_tensor, seg_michael_im = segment_deeplabv3(model, im_michael_path,is_erode=True)\n",
    "        kernel = np.ones((7, 7), np.uint8)\n",
    "        # save mask\n",
    "        mask_michael_im_erode = cv2.erode(mask_michael_tensor.byte().cpu().numpy(), kernel, iterations=1)\n",
    "        mask_michael_im_erode_pil = Image.fromarray(np.uint8(mask_michael_im_erode*255))\n",
    "        mask_michael_im_erode_pil.save(mask_michael_path)\n",
    "        # save segmented image\n",
    "        seg_michael_im = seg_michael_im * mask_michael_im_erode[:, :, np.newaxis]\n",
    "        seg_michael_im_pil = Image.fromarray(np.uint8(seg_michael_im))\n",
    "        seg_michael_im_pil.save(seg_michael_path)\n",
    "\n",
    "    else:\n",
    "        mask_michael_im_erode = np.array(Image.open(mask_michael_path))/255\n",
    "#         print(np.unique(mask_our_im))\n",
    "        \n",
    "    masked_im_with_dino_anaelle_michael = calc_masked_image(im_michael_path, masked_im_with_dino_anaelle, shift_down=660, shift_right=800, mask=mask_michael_im_erode)\n",
    "    \n",
    "    output_vid_im_path = os.path.join(output_vid_images, im_anaelle_name)\n",
    "    masked_im_with_dino_anaelle_michael.save(output_vid_im_path)\n"
   ]
  },
  {
   "cell_type": "code",
   "execution_count": 7,
   "metadata": {},
   "outputs": [
    {
     "name": "stdout",
     "output_type": "stream",
     "text": [
      "(1600, 1059)\n",
      "writing video...\n",
      "saved video @  ../output/video.mp4\n"
     ]
    }
   ],
   "source": [
    "from frame_video_convert import image_seq_to_video_changed\n",
    "image_seq_to_video_changed(imgs_path='./my_data/part2.3/output_video_images',num_images=209,output_path='../output/video.mp4', fps=30)"
   ]
  }
 ],
 "metadata": {
  "kernelspec": {
   "display_name": "Python 3",
   "language": "python",
   "name": "python3"
  },
  "language_info": {
   "codemirror_mode": {
    "name": "ipython",
    "version": 3
   },
   "file_extension": ".py",
   "mimetype": "text/x-python",
   "name": "python",
   "nbconvert_exporter": "python",
   "pygments_lexer": "ipython3",
   "version": "3.6.10"
  }
 },
 "nbformat": 4,
 "nbformat_minor": 4
}
